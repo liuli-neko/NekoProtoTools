{
 "cells": [
  {
   "cell_type": "code",
   "execution_count": null,
   "id": "c604f4ce",
   "metadata": {},
   "outputs": [],
   "source": [
    "import json\n",
    "import pandas as pd\n",
    "from IPython.display import display,JSON\n",
    "import numpy as np\n",
    "\n",
    "data = input(\"json data:\")\n",
    "json_str = json.loads(data)\n",
    "\n",
    "display(JSON(json_str))"
   ]
  },
  {
   "cell_type": "code",
   "execution_count": null,
   "id": "e374e391",
   "metadata": {},
   "outputs": [],
   "source": []
  }
 ],
 "metadata": {
  "kernelspec": {
   "display_name": "Python 3 (ipykernel)",
   "language": "python",
   "name": "python3"
  },
  "language_info": {
   "codemirror_mode": {
    "name": "ipython",
    "version": 3
   },
   "file_extension": ".py",
   "mimetype": "text/x-python",
   "name": "python",
   "nbconvert_exporter": "python",
   "pygments_lexer": "ipython3",
   "version": "3.10.12"
  }
 },
 "nbformat": 4,
 "nbformat_minor": 5
}
