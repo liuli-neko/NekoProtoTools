{
 "cells": [
  {
   "cell_type": "code",
   "execution_count": 3,
   "id": "c604f4ce",
   "metadata": {},
   "outputs": [],
   "source": [
    "import json\n",
    "import pandas as pd\n",
    "from IPython.display import display,JSON\n",
    "import numpy as np\n"
   ]
  },
  {
   "cell_type": "code",
   "execution_count": 10,
   "id": "e374e391",
   "metadata": {},
   "outputs": [],
   "source": [
    "def json_to_cpp(json_str: dict, output_file_name: str, data_name: str = \"\"):\n",
    "    json_data = json.dumps(json_str)\n",
    "    if data_name == \"\":\n",
    "        data_name = \"json_data\"\n",
    "    with open(output_file_name, \"w\") as file:\n",
    "        size = len(json_data)\n",
    "        file.write(\"const char *\" + data_name + \" = R\\\"(\")\n",
    "        file.write(json_data)\n",
    "        file.write(\")\\\";\\n\")"
   ]
  },
  {
   "cell_type": "code",
   "execution_count": 11,
   "id": "f4c64956-461f-49cd-a4b5-8b33c5350d17",
   "metadata": {},
   "outputs": [],
   "source": [
    "for i in range(1, 10):\n",
    "    with open(\".ipynb_checkpoints/test_data_\" + str(i) + \".json\", \"r\") as file:\n",
    "        json_str = json.loads(file.read())\n",
    "    \n",
    "    json_to_cpp(json_str, \"./big_data_test_data_\" + str(i) + \".cpp\", \"data_\" + str(i))"
   ]
  },
  {
   "cell_type": "code",
   "execution_count": null,
   "id": "99d64e09-3b45-45cf-a6ce-7c884629d60b",
   "metadata": {},
   "outputs": [],
   "source": []
  }
 ],
 "metadata": {
  "kernelspec": {
   "display_name": "Python 3 (ipykernel)",
   "language": "python",
   "name": "python3"
  },
  "language_info": {
   "codemirror_mode": {
    "name": "ipython",
    "version": 3
   },
   "file_extension": ".py",
   "mimetype": "text/x-python",
   "name": "python",
   "nbconvert_exporter": "python",
   "pygments_lexer": "ipython3",
   "version": "3.10.12"
  }
 },
 "nbformat": 4,
 "nbformat_minor": 5
}
